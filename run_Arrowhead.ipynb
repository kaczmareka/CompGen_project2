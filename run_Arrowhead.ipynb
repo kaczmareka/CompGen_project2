{
  "cells": [
    {
      "cell_type": "markdown",
      "metadata": {
        "id": "2K-ZeF0ODaOP"
      },
      "source": [
        "# Run Arrowhead to detect TADs\n",
        "\n",
        "The following notebook is based on the original one from the authors of the Python package: https://colab.research.google.com/drive/1XelZowBWxBghSyS11rvs90Zmazsj_HPh?usp=sharing#scrollTo=_eUET-QqL5G1.\n",
        "\n",
        "1. First, we need to download the data we chose for this project. Due to the fact that they are big and our internet is not that fast, we decided to download the data directly on colab."
      ]
    },
    {
      "cell_type": "code",
      "execution_count": null,
      "metadata": {},
      "outputs": [
        {
          "name": "stdout",
          "output_type": "stream",
          "text": [
            "--2024-05-28 16:58:10--  https://ftp.ncbi.nlm.nih.gov/geo/series/GSE226nnn/GSE226216/suppl/GSE226216%5FHMEC%5FRes10%5F20%5F40%5F100%5F500kb.hic\n",
            "Resolving ftp.ncbi.nlm.nih.gov (ftp.ncbi.nlm.nih.gov)... 130.14.250.11, 130.14.250.10, 2607:f220:41e:250::10, ...\n",
            "Connecting to ftp.ncbi.nlm.nih.gov (ftp.ncbi.nlm.nih.gov)|130.14.250.11|:443... connected.\n",
            "HTTP request sent, awaiting response... 200 OK\n",
            "Length: 603498471 (576M)\n",
            "Saving to: ‘GSE226216_HMEC_Res10_20_40_100_500kb.hic’\n",
            "\n",
            "GSE226216_HMEC_Res1 100%[===================>] 575.54M   140MB/s    in 4.6s    \n",
            "\n",
            "2024-05-28 16:58:15 (125 MB/s) - ‘GSE226216_HMEC_Res10_20_40_100_500kb.hic’ saved [603498471/603498471]\n",
            "\n",
            "--2024-05-28 16:58:15--  https://ftp.ncbi.nlm.nih.gov/geo/series/GSE226nnn/GSE226216/suppl/GSE226216%5FHuh1%5FInter%5FIntra%5FRes10%5F20%5F40%5F100%5F500kb.hic\n",
            "Resolving ftp.ncbi.nlm.nih.gov (ftp.ncbi.nlm.nih.gov)... 130.14.250.11, 130.14.250.10, 2607:f220:41e:250::10, ...\n",
            "Connecting to ftp.ncbi.nlm.nih.gov (ftp.ncbi.nlm.nih.gov)|130.14.250.11|:443... connected.\n",
            "HTTP request sent, awaiting response... 200 OK\n",
            "Length: 600793435 (573M)\n",
            "Saving to: ‘GSE226216_Huh1_Inter_Intra_Res10_20_40_100_500kb.hic.1’\n",
            "\n",
            "GSE226216_Huh1_Inte 100%[===================>] 572.96M   127MB/s    in 8.6s    \n",
            "\n",
            "2024-05-28 16:58:24 (66.3 MB/s) - ‘GSE226216_Huh1_Inter_Intra_Res10_20_40_100_500kb.hic.1’ saved [600793435/600793435]\n",
            "\n",
            "--2024-05-28 16:58:24--  https://ftp.ncbi.nlm.nih.gov/geo/series/GSE226nnn/GSE226216/suppl/GSE226216%5FSNU449%5FInter%5FIntra%5FRes10%5F20%5F40%5F100%5F500kb.hic\n",
            "Resolving ftp.ncbi.nlm.nih.gov (ftp.ncbi.nlm.nih.gov)... 130.14.250.11, 130.14.250.10, 2607:f220:41e:250::10, ...\n",
            "Connecting to ftp.ncbi.nlm.nih.gov (ftp.ncbi.nlm.nih.gov)|130.14.250.11|:443... connected.\n",
            "HTTP request sent, awaiting response... 200 OK\n",
            "Length: 612073670 (584M)\n",
            "Saving to: ‘GSE226216_SNU449_Inter_Intra_Res10_20_40_100_500kb.hic.1’\n",
            "\n",
            "GSE226216_SNU449_In 100%[===================>] 583.72M   142MB/s    in 4.3s    \n",
            "\n",
            "2024-05-28 16:58:28 (135 MB/s) - ‘GSE226216_SNU449_Inter_Intra_Res10_20_40_100_500kb.hic.1’ saved [612073670/612073670]\n",
            "\n"
          ]
        }
      ],
      "source": [
        "!wget https://ftp.ncbi.nlm.nih.gov/geo/series/GSE226nnn/GSE226216/suppl/GSE226216%5FHMEC%5FRes10%5F20%5F40%5F100%5F500kb.hic\n",
        "!wget https://ftp.ncbi.nlm.nih.gov/geo/series/GSE226nnn/GSE226216/suppl/GSE226216%5FHuh1%5FInter%5FIntra%5FRes10%5F20%5F40%5F100%5F500kb.hic\n",
        "!wget https://ftp.ncbi.nlm.nih.gov/geo/series/GSE226nnn/GSE226216/suppl/GSE226216%5FSNU449%5FInter%5FIntra%5FRes10%5F20%5F40%5F100%5F500kb.hic"
      ]
    },
    {
      "cell_type": "markdown",
      "metadata": {
        "id": "gmCOd5gUDzPA"
      },
      "source": [
        "2. Download the .jar file for Arrowhead."
      ]
    },
    {
      "cell_type": "code",
      "execution_count": 2,
      "metadata": {
        "colab": {
          "base_uri": "https://localhost:8080/"
        },
        "id": "C2yp7PqoDvI9",
        "outputId": "16d56994-3fb6-4b85-f461-7938582ec7b2"
      },
      "outputs": [
        {
          "name": "stdout",
          "output_type": "stream",
          "text": [
            "--2024-04-08 19:00:46--  https://s3.amazonaws.com/hicfiles.tc4ga.com/public/juicer/juicer_tools_1.22.01.jar\n",
            "Resolving s3.amazonaws.com (s3.amazonaws.com)... 52.217.123.24, 54.231.128.96, 16.182.39.168, ...\n",
            "Connecting to s3.amazonaws.com (s3.amazonaws.com)|52.217.123.24|:443... connected.\n",
            "HTTP request sent, awaiting response... 200 OK\n",
            "Length: 36188666 (35M) [application/x-www-form-urlencoded]\n",
            "Saving to: ‘juicer_tools_1.22.01.jar’\n",
            "\n",
            "juicer_tools_1.22.0 100%[===================>]  34.51M  30.0MB/s    in 1.1s    \n",
            "\n",
            "2024-04-08 19:00:47 (30.0 MB/s) - ‘juicer_tools_1.22.01.jar’ saved [36188666/36188666]\n",
            "\n"
          ]
        }
      ],
      "source": [
        "!wget https://s3.amazonaws.com/hicfiles.tc4ga.com/public/juicer/juicer_tools_1.22.01.jar"
      ]
    },
    {
      "cell_type": "markdown",
      "metadata": {
        "id": "KGC4AGmtFGba"
      },
      "source": [
        "3. Run Arrowhead on given data."
      ]
    },
    {
      "cell_type": "code",
      "execution_count": 3,
      "metadata": {
        "colab": {
          "base_uri": "https://localhost:8080/"
        },
        "id": "T0Gdq0a-FKKl",
        "outputId": "d55d1d29-dc87-4aba-bf22-4d8449d06bd1"
      },
      "outputs": [
        {
          "name": "stdout",
          "output_type": "stream",
          "text": [
            "WARNING: sun.reflect.Reflection.getCallerClass is not supported. This will impact performance.\n",
            "WARN [2024-04-08T19:00:50,119]  [Globals.java:138] [main]  Development mode is enabled\n",
            "Reading file: /content/GSE226216_HMEC_Res10_20_40_100_500kb.hic\n",
            "Using 1 CPU thread(s)\n",
            "Unable to assess map sparsity; continuing with Arrowhead\n",
            "Default settings for 10kb being used\n",
            "max 25.0\n",
            "4% \n",
            "8% \n",
            "12% \n",
            "16% \n",
            "20% \n",
            "24% \n",
            "28% \n",
            "32% \n",
            "36% \n",
            "40% \n",
            "44% \n",
            "48% \n",
            "52% \n",
            "56% \n",
            "60% \n",
            "64% \n",
            "68% \n",
            "72% \n",
            "76% \n",
            "80% \n",
            "84% \n",
            "88% \n",
            "92% \n",
            "96% \n",
            "100% \n",
            "5634 features written to file: /content/first_dataset/10000_blocks.bedpe\n",
            "5634 domains written to file: /content/first_dataset/10000_blocks.bedpe\n",
            "Arrowhead complete\n"
          ]
        }
      ],
      "source": [
        "!java -Xmx10g -jar juicer_tools_1.22.01.jar arrowhead /content/GSE226216_HMEC_Res10_20_40_100_500kb.hic first_dataset"
      ]
    },
    {
      "cell_type": "code",
      "execution_count": null,
      "metadata": {},
      "outputs": [
        {
          "name": "stdout",
          "output_type": "stream",
          "text": [
            "WARNING: sun.reflect.Reflection.getCallerClass is not supported. This will impact performance.\n",
            "WARN [2024-05-28T16:31:18,335]  [Globals.java:138] [main]  Development mode is enabled\n",
            "Reading file: /content/GSE226216_Huh1_Inter_Intra_Res10_20_40_100_500kb.hic\n",
            "Using 1 CPU thread(s)\n",
            "Unable to assess map sparsity; continuing with Arrowhead\n",
            "Default settings for 10kb being used\n",
            "max 25.0\n",
            "4% \n",
            "8% \n",
            "12% \n",
            "16% \n",
            "20% \n",
            "24% \n",
            "28% \n",
            "32% \n",
            "36% \n",
            "40% \n",
            "44% \n",
            "48% \n",
            "52% \n",
            "56% \n",
            "60% \n",
            "64% \n",
            "68% \n",
            "72% \n",
            "76% \n",
            "80% \n",
            "84% \n",
            "88% \n",
            "92% \n",
            "96% \n",
            "100% \n",
            "3619 features written to file: /content/GSE226216_Huh1_Inter_Intra_Res10_20_40_100_500kb.hic___10000_blocks.bedpe/10000_blocks.bedpe\n",
            "3619 domains written to file: /content/GSE226216_Huh1_Inter_Intra_Res10_20_40_100_500kb.hic___10000_blocks.bedpe/10000_blocks.bedpe\n",
            "Arrowhead complete\n"
          ]
        }
      ],
      "source": [
        "!java -Xmx10g -jar juicer_tools_1.22.01.jar arrowhead /content/GSE226216_Huh1_Inter_Intra_Res10_20_40_100_500kb.hic GSE226216_Huh1_Inter_Intra_Res10_20_40_100_500kb.hic___10000_blocks.bedpe"
      ]
    },
    {
      "cell_type": "code",
      "execution_count": null,
      "metadata": {},
      "outputs": [
        {
          "name": "stdout",
          "output_type": "stream",
          "text": [
            "WARNING: sun.reflect.Reflection.getCallerClass is not supported. This will impact performance.\n",
            "WARN [2024-05-28T16:44:03,148]  [Globals.java:138] [main]  Development mode is enabled\n",
            "Reading file: /content/GSE226216_SNU449_Inter_Intra_Res10_20_40_100_500kb.hic\n",
            "Using 1 CPU thread(s)\n",
            "Unable to assess map sparsity; continuing with Arrowhead\n",
            "Default settings for 10kb being used\n",
            "max 25.0\n",
            "4% \n",
            "8% \n",
            "12% \n",
            "16% \n",
            "20% \n",
            "24% \n",
            "28% \n",
            "32% \n",
            "36% \n",
            "40% \n",
            "44% \n",
            "48% \n",
            "52% \n",
            "56% \n",
            "60% \n",
            "64% \n",
            "68% \n",
            "72% \n",
            "76% \n",
            "80% \n",
            "84% \n",
            "88% \n",
            "92% \n",
            "96% \n",
            "100% \n",
            "3452 features written to file: /content/GSE226216_SNU449_Inter_Intra_Res10_20_40_100_500kb.hic___10000_blocks.bedpe/10000_blocks.bedpe\n",
            "3452 domains written to file: /content/GSE226216_SNU449_Inter_Intra_Res10_20_40_100_500kb.hic___10000_blocks.bedpe/10000_blocks.bedpe\n",
            "Arrowhead complete\n"
          ]
        }
      ],
      "source": [
        "!java -Xmx10g -jar juicer_tools_1.22.01.jar arrowhead /content/GSE226216_SNU449_Inter_Intra_Res10_20_40_100_500kb.hic GSE226216_SNU449_Inter_Intra_Res10_20_40_100_500kb.hic___10000_blocks.bedpe"
      ]
    }
  ],
  "metadata": {
    "colab": {
      "provenance": []
    },
    "kernelspec": {
      "display_name": "Python 3",
      "name": "python3"
    },
    "language_info": {
      "name": "python"
    }
  },
  "nbformat": 4,
  "nbformat_minor": 0
}
